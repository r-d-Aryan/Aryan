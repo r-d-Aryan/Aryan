{
  "nbformat": 4,
  "nbformat_minor": 0,
  "metadata": {
    "colab": {
      "provenance": [],
      "authorship_tag": "ABX9TyNLatHphNQEA5rT5lp9DOhN",
      "include_colab_link": true
    },
    "kernelspec": {
      "name": "python3",
      "display_name": "Python 3"
    },
    "language_info": {
      "name": "python"
    }
  },
  "cells": [
    {
      "cell_type": "markdown",
      "metadata": {
        "id": "view-in-github",
        "colab_type": "text"
      },
      "source": [
        "<a href=\"https://colab.research.google.com/github/r-d-Aryan/Aryan/blob/main/SRAMITANAHU.ipynb\" target=\"_parent\"><img src=\"https://colab.research.google.com/assets/colab-badge.svg\" alt=\"Open In Colab\"/></a>"
      ]
    },
    {
      "cell_type": "code",
      "execution_count": null,
      "metadata": {
        "id": "WL7IyxTE28Ha"
      },
      "outputs": [],
      "source": [
        "pip install opencv-python numpy torch torchvision"
      ]
    },
    {
      "cell_type": "code",
      "source": [
        "import torch\n",
        "import cv2\n",
        "import numpy as np\n",
        "\n",
        "\n",
        "model = torch.hub.load('ultralytics/yolov5', 'yolov5s')"
      ],
      "metadata": {
        "id": "7xH3n8nI29yq"
      },
      "execution_count": null,
      "outputs": []
    },
    {
      "cell_type": "code",
      "source": [
        "pip install ultralytics opencv-python numpy torch torchvision"
      ],
      "metadata": {
        "id": "lFZKHjHA3D0F"
      },
      "execution_count": null,
      "outputs": []
    },
    {
      "cell_type": "code",
      "source": [
        "from google.colab import files\n",
        "files.upload()"
      ],
      "metadata": {
        "id": "hoExj7653PE6"
      },
      "execution_count": null,
      "outputs": []
    },
    {
      "cell_type": "code",
      "source": [
        "!mkdir -p ~/.kaggle\n",
        "!mv kaggle.json ~/.kaggle/\n",
        "!chmod 600 ~/.kaggle/kaggle.json"
      ],
      "metadata": {
        "id": "zs5EYiIm3TVN"
      },
      "execution_count": null,
      "outputs": []
    },
    {
      "cell_type": "code",
      "source": [
        "!mkdir -p ~/.kaggle\n",
        "!cp /content/kaggle\\ \\(1\\).json ~/.kaggle/kaggle.json\n",
        "!chmod 600 ~/.kaggle/kaggle.json\n"
      ],
      "metadata": {
        "id": "J1x1aLy53YD7"
      },
      "execution_count": null,
      "outputs": []
    },
    {
      "cell_type": "code",
      "source": [
        "!kaggle datasets download -d klemenko/kitti-dataset"
      ],
      "metadata": {
        "id": "lCtqijOR3cvc"
      },
      "execution_count": null,
      "outputs": []
    },
    {
      "cell_type": "code",
      "source": [
        "import os\n",
        "import zipfile\n",
        "\n",
        "dataset_path = \"/content/kitti-dataset.zip\"\n",
        "extract_to = \"/content/kitti-dataset\"\n",
        "\n",
        "\n",
        "with zipfile.ZipFile(dataset_path, 'r') as zip_ref:\n",
        "    zip_ref.extractall(extract_to)\n",
        "\n",
        "print(\"Dataset extracted successfully!\")"
      ],
      "metadata": {
        "id": "Ja97gJYW3hY5"
      },
      "execution_count": null,
      "outputs": []
    },
    {
      "cell_type": "code",
      "source": [
        "import matplotlib.pyplot as plt\n",
        "import cv2\n",
        "import glob\n",
        "\n",
        "\n",
        "image_files = glob.glob(\"/content/kitti-dataset/*.png\")\n",
        "\n",
        "\n",
        "plt.figure(figsize=(10, 5))\n",
        "for i, img_path in enumerate(image_files[:5]):\n",
        "    img = cv2.imread(img_path)\n",
        "    img = cv2.cvtColor(img, cv2.COLOR_BGR2RGB)\n",
        "    plt.subplot(1, 5, i+1)\n",
        "    plt.imshow(img)\n",
        "    plt.axis(\"off\")\n",
        "plt.show()\n"
      ],
      "metadata": {
        "id": "e-F4mQf83oSj"
      },
      "execution_count": null,
      "outputs": []
    },
    {
      "cell_type": "code",
      "source": [
        "import matplotlib.pyplot as plt\n",
        "import cv2\n",
        "import glob\n",
        "\n",
        "# Get a list of image files\n",
        "image_files = glob.glob(\"/content/kitti-dataset/*.png\")  # Adjust extension if needed\n",
        "\n",
        "# Display a few sample images\n",
        "plt.figure(figsize=(10, 5))\n",
        "for i, img_path in enumerate(image_files[:5]):  # Show 5 images\n",
        "    img = cv2.imread(img_path)\n",
        "    img = cv2.cvtColor(img, cv2.COLOR_BGR2RGB)  # Convert to RGB\n",
        "    plt.subplot(1, 5, i+1)\n",
        "    plt.imshow(img)\n",
        "    plt.axis(\"off\")\n",
        "plt.show()\n",
        "\n"
      ],
      "metadata": {
        "id": "dK3TSXNT3zNP"
      },
      "execution_count": null,
      "outputs": []
    },
    {
      "cell_type": "code",
      "source": [
        "import os\n",
        "\n",
        "extracted_folders = os.listdir(\"/content/kitti-dataset\")\n",
        "print(\"Extracted files and folders:\", extracted_folders)"
      ],
      "metadata": {
        "id": "_QmGs0Ai3-Yn"
      },
      "execution_count": null,
      "outputs": []
    },
    {
      "cell_type": "code",
      "source": [
        "dataset_paths = {\n",
        "    \"train\": \"/content/kitti-dataset/train/images\",\n",
        "    \"val\": \"/content/kitti-dataset/val/images\"\n",
        "}\n",
        "\n",
        "nc = 8\n",
        "names = [\"car\", \"van\", \"truck\", \"pedestrian\", \"person_sitting\", \"cyclist\", \"tram\", \"misc\"]\n"
      ],
      "metadata": {
        "id": "78D7Jp-Y3_y6"
      },
      "execution_count": null,
      "outputs": []
    },
    {
      "cell_type": "code",
      "source": [
        "import os\n",
        "import shutil\n",
        "import random\n",
        "\n",
        "\n",
        "input_images_dir = \"/content/kitti-dataset/data_object_image_2/training\"\n",
        "input_labels_dir = \"/content/kitti-dataset/data_object_label_2\"\n",
        "output_dir = \"/content/kitti\"\n",
        "\n",
        "\n",
        "if not os.path.exists(input_images_dir):\n",
        "    raise FileNotFoundError(f\"Directory not found: {input_images_dir}\")\n",
        "if not os.path.exists(input_labels_dir):\n",
        "    raise FileNotFoundError(f\"Directory not found: {input_labels_dir}\")\n",
        "\n",
        "\n",
        "os.makedirs(os.path.join(output_dir, \"images\", \"train\"), exist_ok=True)\n",
        "os.makedirs(os.path.join(output_dir, \"images\", \"val\"), exist_ok=True)\n",
        "os.makedirs(os.path.join(output_dir, \"labels\", \"train\"), exist_ok=True)\n",
        "os.makedirs(os.path.join(output_dir, \"labels\", \"val\"), exist_ok=True)\n",
        "\n",
        "\n",
        "image_files = [f for f in os.listdir(input_images_dir) if f.endswith(\".png\")]\n",
        "random.shuffle(image_files)\n",
        "\n",
        "\n",
        "split_ratio = 0.8\n",
        "split_index = int(len(image_files) * split_ratio)\n",
        "\n",
        "\n",
        "train_images = image_files[:split_index]\n",
        "val_images = image_files[split_index:]\n",
        "\n",
        "\n",
        "def copy_files(file_list, input_dir, output_dir):\n",
        "    for file in file_list:\n",
        "        shutil.copy(os.path.join(input_dir, file), output_dir)\n",
        "\n",
        "\n",
        "copy_files(train_images, input_images_dir, os.path.join(output_dir, \"images\", \"train\"))\n",
        "copy_files(val_images, input_images_dir, os.path.join(output_dir, \"images\", \"val\"))\n",
        "\n",
        "\n",
        "train_labels = [f.replace(\".png\", \".txt\") for f in train_images]\n",
        "val_labels = [f.replace(\".png\", \".txt\") for f in val_images]\n",
        "\n",
        "copy_files(train_labels, input_labels_dir, os.path.join(output_dir, \"labels\", \"train\"))\n",
        "copy_files(val_labels, input_labels_dir, os.path.join(output_dir, \"labels\", \"val\"))\n",
        "\n",
        "print(\"✅ Dataset organized successfully!\")\n"
      ],
      "metadata": {
        "id": "TG16vUjy4JhT"
      },
      "execution_count": null,
      "outputs": []
    },
    {
      "cell_type": "code",
      "source": [
        "import os\n",
        "import shutil\n",
        "import random\n",
        "\n",
        "\n",
        "input_images_dir_2 = \"kitti-dataset/data_object_image_2/training/image_2\"\n",
        "input_images_dir_3 = \"kitti-dataset/data_object_image_3/training/image_3\"\n",
        "input_labels_dir = \"kitti-dataset/data_object_label_2/training/label_2\"\n",
        "output_dir = \"kitti\"\n",
        "\n",
        "\n",
        "os.makedirs(os.path.join(output_dir, \"images\", \"train\"), exist_ok=True)\n",
        "os.makedirs(os.path.join(output_dir, \"images\", \"val\"), exist_ok=True)\n",
        "os.makedirs(os.path.join(output_dir, \"labels\", \"train\"), exist_ok=True)\n",
        "os.makedirs(os.path.join(output_dir, \"labels\", \"val\"), exist_ok=True)\n",
        "\n",
        "\n",
        "image_files_2 = [f for f in os.listdir(input_images_dir_2) if f.endswith(\".png\")]\n",
        "image_files_3 = [f for f in os.listdir(input_images_dir_3) if f.endswith(\".png\")]\n",
        "\n",
        "\n",
        "image_files = image_files_2 + image_files_3\n",
        "random.shuffle(image_files)\n",
        "\n",
        "\n",
        "split_ratio = 0.8\n",
        "split_index = int(len(image_files) * split_ratio)\n",
        "\n",
        "\n",
        "train_images = image_files[:split_index]\n",
        "val_images = image_files[split_index:]\n",
        "\n",
        "\n",
        "def copy_files(file_list, input_dirs, output_dir):\n",
        "    for file in file_list:\n",
        "        for input_dir in input_dirs:\n",
        "            src = os.path.join(input_dir, file)\n",
        "            if os.path.exists(src):\n",
        "                shutil.copy(src, output_dir)\n",
        "\n",
        "\n",
        "copy_files(train_images, [input_images_dir_2, input_images_dir_3], os.path.join(output_dir, \"images\", \"train\"))\n",
        "copy_files(val_images, [input_images_dir_2, input_images_dir_3], os.path.join(output_dir, \"images\", \"val\"))\n",
        "\n",
        "\n",
        "train_labels = [f.replace(\".png\", \".txt\") for f in train_images]\n",
        "val_labels = [f.replace(\".png\", \".txt\") for f in val_images]\n",
        "\n",
        "copy_files(train_labels, [input_labels_dir], os.path.join(output_dir, \"labels\", \"train\"))\n",
        "copy_files(val_labels, [input_labels_dir], os.path.join(output_dir, \"labels\", \"val\"))\n",
        "\n",
        "print(\"✅ Dataset structured successfully!\")\n"
      ],
      "metadata": {
        "id": "tw0raNDs4YWN"
      },
      "execution_count": null,
      "outputs": []
    },
    {
      "cell_type": "code",
      "source": [
        "import os\n",
        "\n",
        "dataset_path = \"kitti\"\n",
        "\n",
        "for root, dirs, files in os.walk(dataset_path):\n",
        "    level = root.replace(dataset_path, \"\").count(os.sep)\n",
        "    indent = \" \" * 4 * level\n",
        "    print(f\"{indent}{os.path.basename(root)}/\")\n",
        "    sub_indent = \" \" * 4 * (level + 1)\n",
        "    for f in files[:5]:\n",
        "        print(f\"{sub_indent}{f}\")\n"
      ],
      "metadata": {
        "id": "CbhFouW04gJy"
      },
      "execution_count": null,
      "outputs": []
    },
    {
      "cell_type": "code",
      "source": [
        "import os\n",
        "\n",
        "def find_missing_files(image_dir, label_dir, img_ext=\".png\", lbl_ext=\".txt\"):\n",
        "    image_files = {f.replace(img_ext, \"\") for f in os.listdir(image_dir) if f.endswith(img_ext)}\n",
        "    label_files = {f.replace(lbl_ext, \"\") for f in os.listdir(label_dir) if f.endswith(lbl_ext)}\n",
        "\n",
        "    missing_labels = image_files - label_files\n",
        "    missing_images = label_files - image_files\n",
        "\n",
        "    return missing_labels, missing_images\n",
        "\n",
        "train_missing_labels, train_missing_images = find_missing_files(\"kitti/images/train\", \"kitti/labels/train\")\n",
        "val_missing_labels, val_missing_images = find_missing_files(\"kitti/images/val\", \"kitti/labels/val\")\n",
        "\n",
        "print(f\"Missing train labels: {train_missing_labels}\")\n",
        "print(f\"Missing train images: {train_missing_images}\")\n",
        "print(f\"Missing val labels: {val_missing_labels}\")\n",
        "print(f\"Missing val images: {val_missing_images}\")\n"
      ],
      "metadata": {
        "id": "QILpKWZ74nWS"
      },
      "execution_count": null,
      "outputs": []
    },
    {
      "cell_type": "code",
      "source": [
        "import cv2\n",
        "import numpy as np\n",
        "from ultralytics import YOLO\n",
        "import threading\n",
        "import time\n",
        "\n",
        "\n",
        "model = YOLO(\"/content/yolov5su.pt\")\n",
        "\n",
        "# PID Controller for Steering\n",
        "class PIDController:\n",
        "    def __init__(self, kp, ki, kd):\n",
        "        self.kp = kp\n",
        "        self.ki = ki\n",
        "        self.kd = kd\n",
        "        self.prev_error = 0\n",
        "        self.integral = 0\n",
        "\n",
        "    def update(self, error, dt):\n",
        "        self.integral += error * dt\n",
        "        derivative = (error - self.prev_error) / dt\n",
        "        output = self.kp * error + self.ki * self.integral + self.kd * derivative\n",
        "        self.prev_error = error\n",
        "        return output\n",
        "\n",
        "# Initialize PID Controller\n",
        "pid = PIDController(kp=0.1, ki=0.01, kd=0.05)\n",
        "\n",
        "# Function to process each frame\n",
        "def process_frame(frame):\n",
        "\n",
        "    results = model(frame)\n",
        "\n",
        "    # Get bounding boxes, confidences, and class IDs\n",
        "    boxes = results[0].boxes.xyxy.cpu().numpy()\n",
        "    confidences = results[0].boxes.conf.cpu().numpy()\n",
        "    class_ids = results[0].boxes.cls.cpu().numpy()\n",
        "\n",
        "    # Calculate steering direction\n",
        "    height, width, _ = frame.shape\n",
        "    mid_x = width // 2\n",
        "    steering_angle = 0\n",
        "\n",
        "    for box, confidence, class_id in zip(boxes, confidences, class_ids):\n",
        "        if confidence > 0.5:  # Confidence threshold\n",
        "            x1, y1, x2, y2 = map(int, box)\n",
        "            obstacle_mid_x = (x1 + x2) // 2\n",
        "\n",
        "            # Calculate error (deviation from center)\n",
        "            error = obstacle_mid_x - mid_x\n",
        "\n",
        "            # Update PID controller\n",
        "            steering_angle = pid.update(error, dt=0.1)\n",
        "\n",
        "            # Draw bounding box and label\n",
        "            label = f\"{model.names[int(class_id)]} {confidence:.2f}\"\n",
        "            cv2.rectangle(frame, (x1, y1), (x2, y2), (0, 255, 0), 2)\n",
        "            cv2.putText(frame, label, (x1, y1 - 10), cv2.FONT_HERSHEY_SIMPLEX, 0.5, (0, 255, 0), 2)\n",
        "\n",
        "    # Display steering decision\n",
        "    cv2.putText(frame, f\"Steering Angle: {steering_angle:.2f}\", (10, 30), cv2.FONT_HERSHEY_SIMPLEX, 1, (0, 0, 255), 2)\n",
        "\n",
        "    return frame, steering_angle\n",
        "\n",
        "\n",
        "def capture_frames():\n",
        "    cap = cv2.VideoCapture(0)\n",
        "    while True:\n",
        "        ret, frame = cap.read()\n",
        "        if not ret:\n",
        "            break\n",
        "        yield frame\n",
        "    cap.release()\n",
        "\n",
        "\n",
        "for frame in capture_frames():\n",
        "\n",
        "    processed_frame, steering_angle = process_frame(frame)\n",
        "\n",
        "\n",
        "    cv2.imshow(\"Obstacle Detection\", processed_frame)\n",
        "\n",
        "\n",
        "    if cv2.waitKey(1) & 0xFF == ord('q'):\n",
        "        break\n",
        "\n",
        "cv2.destroyAllWindows()\n"
      ],
      "metadata": {
        "id": "40hcMqD34ojc"
      },
      "execution_count": null,
      "outputs": []
    },
    {
      "cell_type": "code",
      "source": [
        "# Create kitti.yaml file\n",
        "yaml_content = \"\"\"train: /content/kitti/images/train\n",
        "val: /content/kitti/images/val\n",
        "\n",
        "nc: 3\n",
        "names: ['car', 'pedestrian', 'cyclist']\n",
        "\"\"\"\n",
        "\n",
        "yaml_path = \"/content/kitti.yaml\"\n",
        "with open(yaml_path, \"w\") as f:\n",
        "    f.write(yaml_content)\n",
        "\n",
        "print(f\"kitti.yaml file created successfully at {yaml_path}!\")\n"
      ],
      "metadata": {
        "id": "acjhMQoN5DxS"
      },
      "execution_count": null,
      "outputs": []
    },
    {
      "cell_type": "code",
      "source": [
        "!unzip /content/kitti-dataset.zip -d /content/kitti-dataset  #ALL"
      ],
      "metadata": {
        "id": "0KBx8RiC5GSp"
      },
      "execution_count": null,
      "outputs": []
    },
    {
      "cell_type": "code",
      "source": [
        "!mkdir -p /content/kitti-yolo/images/train\n",
        "!mkdir -p /content/kitti-yolo/images/val\n",
        "!mkdir -p /content/kitti-yolo/labels/train\n",
        "!mkdir -p /content/kitti-yolo/labels/val"
      ],
      "metadata": {
        "id": "gdAH2gjl5StS"
      },
      "execution_count": null,
      "outputs": []
    },
    {
      "cell_type": "code",
      "source": [
        "kitti_image_dir = \"/content/kitti-dataset/training/image_2\"\n",
        "kitti_label_dir = \"/content/kitti-dataset/training/label_2\""
      ],
      "metadata": {
        "id": "fR3DSjSv5hcv"
      },
      "execution_count": null,
      "outputs": []
    },
    {
      "cell_type": "code",
      "source": [
        "!unzip /content/kitti-dataset.zip -d /content/kitti-dataset"
      ],
      "metadata": {
        "id": "BNw6HPFP5mRL"
      },
      "execution_count": null,
      "outputs": []
    },
    {
      "cell_type": "code",
      "source": [
        "kitti_image_dir = \"/content/kitti-dataset/data_object_image_2/training/image_2\"\n",
        "kitti_label_dir = \"/content/kitti-dataset/data_object_label_2/training/label_2\""
      ],
      "metadata": {
        "id": "x3igyVrH5qS8"
      },
      "execution_count": null,
      "outputs": []
    },
    {
      "cell_type": "code",
      "source": [
        "import os\n",
        "import cv2\n",
        "\n",
        "\n",
        "!mkdir -p /content/kitti-yolo/images/train\n",
        "!mkdir -p /content/kitti-yolo/images/val\n",
        "!mkdir -p /content/kitti-yolo/labels/train\n",
        "!mkdir -p /content/kitti-yolo/labels/val\n",
        "\n",
        "\n",
        "def convert_kitti_to_yolo(kitti_label_path, yolo_label_path, image_width, image_height):\n",
        "    with open(kitti_label_path, 'r') as f:\n",
        "        lines = f.readlines()\n",
        "    yolo_labels = []\n",
        "    for line in lines:\n",
        "        parts = line.strip().split()\n",
        "        class_name = parts[0]\n",
        "        if class_name not in ['Car', 'Pedestrian']:\n",
        "            continue\n",
        "        class_id = 0 if class_name == 'Car' else 1\n",
        "        xmin, ymin, xmax, ymax = map(float, parts[4:8])\n",
        "        x_center = (xmin + xmax) / 2 / image_width\n",
        "        y_center = (ymin + ymax) / 2 / image_height\n",
        "        width = (xmax - xmin) / image_width\n",
        "        height = (ymax - ymin) / image_height\n",
        "        yolo_labels.append(f\"{class_id} {x_center} {y_center} {width} {height}\\n\")\n",
        "    with open(yolo_label_path, 'w') as f:\n",
        "        f.writelines(yolo_labels)\n",
        "\n",
        "\n",
        "kitti_image_dir = \"/content/kitti-dataset/data_object_image_2/training/image_2\"\n",
        "kitti_label_dir = \"/content/kitti-dataset/data_object_label_2/training/label_2\"\n",
        "for image_name in os.listdir(kitti_image_dir):\n",
        "    if not image_name.endswith('.png'):\n",
        "        continue\n",
        "    image_path = os.path.join(kitti_image_dir, image_name)\n",
        "    label_name = image_name.replace('.png', '.txt')\n",
        "    label_path = os.path.join(kitti_label_dir, label_name)\n",
        "    yolo_label_path = os.path.join(\"/content/kitti-yolo/labels/train\", label_name)\n",
        "    image = cv2.imread(image_path)\n",
        "    height, width, _ = image.shape\n",
        "    convert_kitti_to_yolo(label_path, yolo_label_path, width, height)\n",
        "    !cp {image_path} /content/kitti-yolo/images/train/"
      ],
      "metadata": {
        "id": "fhc8PQgT5u5_"
      },
      "execution_count": null,
      "outputs": []
    },
    {
      "cell_type": "code",
      "source": [
        "import random\n",
        "\n",
        "\n",
        "all_images = os.listdir(\"/content/kitti-yolo/images/train\")\n",
        "random.shuffle(all_images)\n",
        "split_idx = int(0.8 * len(all_images))\n",
        "train_images = all_images[:split_idx]\n",
        "val_images = all_images[split_idx:]\n",
        "\n",
        "for image in val_images:\n",
        "    !mv /content/kitti-yolo/images/train/{image} /content/kitti-yolo/images/val/\n",
        "    label = image.replace('.png', '.txt')\n",
        "    !mv /content/kitti-yolo/labels/train/{label} /content/kitti-yolo/labels/val/"
      ],
      "metadata": {
        "id": "7J5P3zQ055eD"
      },
      "execution_count": null,
      "outputs": []
    },
    {
      "cell_type": "code",
      "source": [
        "!ls /content/kitti-yolo/images/train\n",
        "!ls /content/kitti-yolo/labels/train\n",
        "!ls /content/kitti-yolo/images/val\n",
        "!ls /content/kitti-yolo/labels/val"
      ],
      "metadata": {
        "id": "eEA2wAR057EL"
      },
      "execution_count": null,
      "outputs": []
    },
    {
      "cell_type": "code",
      "source": [
        "with open(\"/content/kitti.yaml\", \"w\") as f:\n",
        "    f.write(\"\"\"\n",
        "    train: /content/kitti-yolo/images/train\n",
        "    val: /content/kitti-yolo/images/val\n",
        "    nc: 2\n",
        "    names: ['Car', 'Pedestrian']\n",
        "    \"\"\")"
      ],
      "metadata": {
        "id": "LaMGJiGl5-Hd"
      },
      "execution_count": null,
      "outputs": []
    },
    {
      "cell_type": "code",
      "source": [
        "!git clone https://github.com/ultralytics/yolov5"
      ],
      "metadata": {
        "id": "zC7SgyaO6C5n"
      },
      "execution_count": null,
      "outputs": []
    },
    {
      "cell_type": "code",
      "source": [
        "import os\n",
        "import cv2\n",
        "\n",
        "\n",
        "!mkdir -p /content/kitti-yolo/images/train\n",
        "!mkdir -p /content/kitti-yolo/images/val\n",
        "!mkdir -p /content/kitti-yolo/labels/train\n",
        "!mkdir -p /content/kitti-yolo/labels/val\n",
        "\n",
        "\n",
        "def convert_kitti_to_yolo(kitti_label_path, yolo_label_path, image_width, image_height):\n",
        "    with open(kitti_label_path, 'r') as f:\n",
        "        lines = f.readlines()\n",
        "    yolo_labels = []\n",
        "    for line in lines:\n",
        "        parts = line.strip().split()\n",
        "        class_name = parts[0]\n",
        "        if class_name not in ['Car', 'Pedestrian']:\n",
        "            continue\n",
        "        class_id = 0 if class_name == 'Car' else 1\n",
        "        xmin, ymin, xmax, ymax = map(float, parts[4:8])\n",
        "        x_center = (xmin + xmax) / 2 / image_width\n",
        "        y_center = (ymin + ymax) / 2 / image_height\n",
        "        width = (xmax - xmin) / image_width\n",
        "        height = (ymax - ymin) / image_height\n",
        "        yolo_labels.append(f\"{class_id} {x_center} {y_center} {width} {height}\\n\")\n",
        "    with open(yolo_label_path, 'w') as f:\n",
        "        f.writelines(yolo_labels)\n",
        "\n",
        "kitti_image_dir = \"/content/kitti-dataset/data_object_image_2/training/image_2\"\n",
        "kitti_label_dir = \"/content/kitti-dataset/data_object_label_2/training/label_2\"\n",
        "for image_name in os.listdir(kitti_image_dir):\n",
        "    if not image_name.endswith('.png'):\n",
        "        continue\n",
        "    image_path = os.path.join(kitti_image_dir, image_name)\n",
        "    label_name = image_name.replace('.png', '.txt')\n",
        "    label_path = os.path.join(kitti_label_dir, label_name)\n",
        "    yolo_label_path = os.path.join(\"/content/kitti-yolo/labels/train\", label_name)\n",
        "    image = cv2.imread(image_path)\n",
        "    height, width, _ = image.shape\n",
        "    convert_kitti_to_yolo(label_path, yolo_label_path, width, height)\n",
        "    !cp {image_path} /content/kitti-yolo/images/train/\n",
        "\n",
        "\n",
        "import random\n",
        "all_images = os.listdir(\"/content/kitti-yolo/images/train\")\n",
        "random.shuffle(all_images)\n",
        "split_idx = int(0.8 * len(all_images))\n",
        "train_images = all_images[:split_idx]\n",
        "val_images = all_images[split_idx:]\n",
        "\n",
        "for image in val_images:\n",
        "    !mv /content/kitti-yolo/images/train/{image} /content/kitti-yolo/images/val/\n",
        "    label = image.replace('.png', '.txt')\n",
        "    !mv /content/kitti-yolo/labels/train/{label} /content/kitti-yolo/labels/val/"
      ],
      "metadata": {
        "id": "y8VM-2kA6Gp_"
      },
      "execution_count": null,
      "outputs": []
    },
    {
      "cell_type": "code",
      "source": [
        "\n",
        "with open(\"/content/kitti.yaml\", \"w\") as f:\n",
        "    f.write(\"\"\"\n",
        "train: /content/kitti-yolo/images/train\n",
        "val: /content/kitti-yolo/images/val\n",
        "nc: 2\n",
        "names: ['Car', 'Pedestrian']\n",
        "\"\"\")"
      ],
      "metadata": {
        "id": "m3ZeQ4HP6J_J"
      },
      "execution_count": null,
      "outputs": []
    },
    {
      "cell_type": "code",
      "source": [
        "!cat /content/kitti.yaml"
      ],
      "metadata": {
        "id": "4czNG8Th6h9J"
      },
      "execution_count": null,
      "outputs": []
    },
    {
      "cell_type": "code",
      "source": [
        "!python train.py --img 640 --batch 16 --epochs 3 --data /content/kitti.yaml --weights yolov5s.pt"
      ],
      "metadata": {
        "id": "xt4_EEKl6k68"
      },
      "execution_count": null,
      "outputs": []
    },
    {
      "cell_type": "code",
      "source": [
        "import os\n",
        "print(os.listdir('data/images'))"
      ],
      "metadata": {
        "id": "k7kSwHef6oBX"
      },
      "execution_count": null,
      "outputs": []
    },
    {
      "cell_type": "code",
      "source": [
        "model = torch.hub.load('ultralytics/yolov5', 'custom', path='runs/train/exp/weights/best.pt')\n"
      ],
      "metadata": {
        "id": "ltfQxJ9n6rrh"
      },
      "execution_count": null,
      "outputs": []
    },
    {
      "cell_type": "code",
      "source": [
        "import os\n",
        "test_images_path = os.path.abspath(\"data_object_image_3/testing/image_3/\")\n",
        "print(\"Absolute path:\", test_images_path)"
      ],
      "metadata": {
        "id": "SdW8XXoX8tJq"
      },
      "execution_count": null,
      "outputs": []
    },
    {
      "cell_type": "code",
      "source": [
        "import torch\n",
        "import os\n",
        "\n",
        "#inference\n",
        "\n",
        "model = torch.hub.load('ultralytics/yolov5', 'custom', path='runs/train/exp/weights/best.pt')\n",
        "\n",
        "test_images_path = \"/content/kitti-dataset/data_object_image_2/testing/image_2\"\n",
        "\n",
        "\n",
        "test_images = sorted(os.listdir(test_images_path))\n",
        "first_image = os.path.join(test_images_path, test_images[0])\n",
        "\n",
        "\n",
        "results = model(first_image)\n",
        "\n",
        "\n",
        "results.show()\n",
        "results.save('output/')\n"
      ],
      "metadata": {
        "id": "0_kMy9MD8wom"
      },
      "execution_count": null,
      "outputs": []
    },
    {
      "cell_type": "code",
      "source": [
        "import torch\n",
        "import os\n",
        "\n",
        "\n",
        "model = torch.hub.load('ultralytics/yolov5', 'custom', path='runs/train/exp/weights/best.pt')\n",
        "\n",
        "test_images_path = \"/content/kitti-dataset/data_object_image_2/testing/image_2\"\n",
        "\n",
        "\n",
        "test_images = sorted(os.listdir(test_images_path))[:10]\n",
        "if not test_images:\n",
        "    raise FileNotFoundError(f\"No test images found in {test_images_path}\")\n",
        "\n",
        "\n",
        "for img_name in test_images:\n",
        "    img_path = os.path.join(test_images_path, img_name)\n",
        "    results = model(img_path)\n",
        "\n",
        "\n",
        "    results.show()\n",
        "    results.save('output/')\n",
        "\n",
        "print(\"✅ Inference completed on 10 images! Results saved in 'output/' folder.\")\n"
      ],
      "metadata": {
        "id": "vGw96xBr9D-m"
      },
      "execution_count": null,
      "outputs": []
    },
    {
      "cell_type": "code",
      "source": [
        "import torch\n",
        "import os\n",
        "import cv2\n",
        "from google.colab.patches import cv2_imshow\n",
        "from PIL import Image\n",
        "from IPython.display import display\n",
        "\n",
        "\n",
        "model = torch.hub.load('ultralytics/yolov5', 'yolov5s')\n",
        "\n",
        "\n",
        "test_images_path = \"/content/kitti-dataset/data_object_image_2/testing/image_2\"\n",
        "\n",
        "\n",
        "if not os.path.exists(test_images_path):\n",
        "    raise FileNotFoundError(f\"❌ Path does NOT exist: {test_images_path}\")\n",
        "\n",
        "\n",
        "test_images = sorted(os.listdir(test_images_path))[:10]\n",
        "\n",
        "\n",
        "if not test_images:\n",
        "    raise FileNotFoundError(f\"No test images found in {test_images_path}\")\n",
        "\n",
        "\n",
        "for img_name in test_images:\n",
        "    img_path = os.path.join(test_images_path, img_name)\n",
        "\n",
        "\n",
        "    img = Image.open(img_path)\n",
        "    results = model(img)\n",
        "\n",
        "\n",
        "    print(f\"\\n🔹 Processing: {img_name}\")\n",
        "    display(img)\n",
        "    results.show()\n"
      ],
      "metadata": {
        "id": "m5utrQwY9FMK"
      },
      "execution_count": null,
      "outputs": []
    },
    {
      "cell_type": "code",
      "source": [
        "import torch\n",
        "import os\n",
        "import cv2\n",
        "import numpy as np\n",
        "from google.colab.patches import cv2_imshow\n",
        "from PIL import Image\n",
        "\n",
        "\n",
        "model = torch.hub.load('ultralytics/yolov5', 'yolov5s')\n",
        "\n",
        "\n",
        "test_images_path = \"/content/kitti-dataset/data_object_image_2/testing/image_2\"\n",
        "\n",
        "\n",
        "if not os.path.exists(test_images_path):\n",
        "    raise FileNotFoundError(f\"❌ Path does NOT exist: {test_images_path}\")\n",
        "\n",
        "\n",
        "test_images = sorted(os.listdir(test_images_path))[:10]\n",
        "\n",
        "if not test_images:\n",
        "    raise FileNotFoundError(f\"No test images found in {test_images_path}\")\n",
        "\n",
        "\n",
        "for img_name in test_images:\n",
        "    img_path = os.path.join(test_images_path, img_name)\n",
        "\n",
        "\n",
        "    img = Image.open(img_path)\n",
        "    results = model(img)\n",
        "\n",
        "\n",
        "    img_cv = cv2.imread(img_path)\n",
        "    img_height, img_width, _ = img_cv.shape\n",
        "\n",
        "\n",
        "    detections = results.pandas().xyxy[0]\n",
        "\n",
        "\n",
        "    move_direction = \"SAFE TO MOVE FORWARD\"\n",
        "\n",
        "    for _, row in detections.iterrows():\n",
        "        x_min, x_max = row[\"xmin\"], row[\"xmax\"]\n",
        "        obj_center = (x_min + x_max) / 2\n",
        "\n",
        "        if obj_center < img_width / 3:\n",
        "            move_direction = \"MOVE RIGHT\"\n",
        "        elif obj_center > 2 * img_width / 3:  # Obstacle on the right\n",
        "            move_direction = \"MOVE LEFT\"\n",
        "        else:  # Obstacle in center\n",
        "            move_direction = \"STOP\"\n",
        "\n",
        "\n",
        "    print(f\"\\n🔹 Processing: {img_name}\")\n",
        "    print(f\"➡ Recommended Move: {move_direction}\")\n",
        "    cv2_imshow(img_cv)\n"
      ],
      "metadata": {
        "id": "YJ5ixpGo9PfK"
      },
      "execution_count": null,
      "outputs": []
    },
    {
      "cell_type": "code",
      "source": [
        "import torch\n",
        "import os\n",
        "import cv2\n",
        "import numpy as np\n",
        "from google.colab.patches import cv2_imshow\n",
        "from PIL import Image\n",
        "\n",
        "model = torch.hub.load('ultralytics/yolov5', 'yolov5s')\n",
        "\n",
        "test_images_path = \"/content/kitti-dataset/data_object_image_2/testing/image_2\"\n",
        "\n",
        "if not os.path.exists(test_images_path):\n",
        "    raise FileNotFoundError(f\"❌ Path does NOT exist: {test_images_path}\")\n",
        "\n",
        "test_images = sorted(os.listdir(test_images_path))[:20]\n",
        "\n",
        "\n",
        "if not test_images:\n",
        "    raise FileNotFoundError(f\"No test images found in {test_images_path}\")\n",
        "\n",
        "\n",
        "selected_images = 0\n",
        "\n",
        "for img_name in test_images:\n",
        "    img_path = os.path.join(test_images_path, img_name)\n",
        "\n",
        "    img = Image.open(img_path)\n",
        "    results = model(img)\n",
        "\n",
        "    img_cv = cv2.imread(img_path)\n",
        "    img_height, img_width, _ = img_cv.shape\n",
        "\n",
        "    # Get detection results\n",
        "    detections = results.pandas().xyxy[0]  # Convert to pandas DataFrame\n",
        "\n",
        "    # Process only if exactly 1 obstacle is detected\n",
        "    if len(detections) == 1:\n",
        "        row = detections.iloc[0]\n",
        "        x_min, x_max = row[\"xmin\"], row[\"xmax\"]\n",
        "        obj_center = (x_min + x_max) / 2  # Center of bounding box\n",
        "\n",
        "        # Decide movement direction\n",
        "        if obj_center < img_width / 3:\n",
        "            move_direction = \"MOVE RIGHT\"  # Obstacle on the left\n",
        "        elif obj_center > 2 * img_width / 3:\n",
        "            move_direction = \"MOVE LEFT\"  # Obstacle on the right\n",
        "        else:\n",
        "            move_direction = \"STOP\"  # Obstacle in center\n",
        "\n",
        "\n",
        "        print(f\"\\n🔹 Processing: {img_name}\")\n",
        "        print(f\"➡ Recommended Move: {move_direction}\")\n",
        "        cv2_imshow(img_cv)\n",
        "\n",
        "        selected_images += 1\n",
        "        if selected_images == 10:\n",
        "            break\n"
      ],
      "metadata": {
        "id": "948nRZmu9dD8"
      },
      "execution_count": null,
      "outputs": []
    },
    {
      "cell_type": "code",
      "source": [
        "import torch\n",
        "import os\n",
        "import cv2\n",
        "import numpy as np\n",
        "from google.colab.patches import cv2_imshow\n",
        "from PIL import Image\n",
        "\n",
        "model = torch.hub.load('ultralytics/yolov5', 'yolov5s')\n",
        "\n",
        "test_images_path = \"/content/kitti-dataset/data_object_image_2/testing/image_2\"\n",
        "\n",
        "\n",
        "if not os.path.exists(test_images_path):\n",
        "    raise FileNotFoundError(f\"❌ Path does NOT exist: {test_images_path}\")\n",
        "\n",
        "test_images = sorted(os.listdir(test_images_path))[:20]\n",
        "\n",
        "if not test_images:\n",
        "    raise FileNotFoundError(f\"No test images found in {test_images_path}\")\n",
        "\n",
        "selected_images = 0\n",
        "\n",
        "for img_name in test_images:\n",
        "    img_path = os.path.join(test_images_path, img_name)\n",
        "\n",
        "    img = Image.open(img_path)\n",
        "    results = model(img)\n",
        "\n",
        "    img_cv = cv2.imread(img_path)\n",
        "    img_height, img_width, _ = img_cv.shape\n",
        "\n",
        "    detections = results.pandas().xyxy[0]\n",
        "\n",
        "    # Process only if exactly 1 obstacle is detected\n",
        "    if len(detections) == 1:\n",
        "        row = detections.iloc[0]\n",
        "        x_min, y_min, x_max, y_max = row[\"xmin\"], row[\"ymin\"], row[\"xmax\"], row[\"ymax\"]\n",
        "        obj_center_x = (x_min + x_max) / 2\n",
        "        obj_width = x_max - x_min\n",
        "        obj_height = y_max - y_min\n",
        "        aspect_ratio = obj_width / obj_height  # Width-to-height ratio\n",
        "\n",
        "        # Decide movement direction based on skewness\n",
        "        if aspect_ratio > 1.5:  # Obstacle is skewed (wide)\n",
        "            move_direction = \"SLOW DOWN\"  # Skewed obstacles might cover more space\n",
        "        elif x_min < img_width / 4:\n",
        "            move_direction = \"MOVE RIGHT\"  # Obstacle on the left edge\n",
        "        elif x_max > 3 * img_width / 4:\n",
        "            move_direction = \"MOVE LEFT\"  # Obstacle on the right edge\n",
        "        else:\n",
        "            move_direction = \"STOP\"  # Obstacle in center\n",
        "\n",
        "\n",
        "        print(f\"\\n🔹 Processing: {img_name}\")\n",
        "        print(f\"➡ Recommended Move: {move_direction}\")\n",
        "        cv2_imshow(img_cv)\n",
        "\n",
        "\n",
        "        selected_images += 1\n",
        "        if selected_images == 10:\n",
        "            break\n"
      ],
      "metadata": {
        "id": "NE7cKnWD9rjh"
      },
      "execution_count": null,
      "outputs": []
    }
  ]
}